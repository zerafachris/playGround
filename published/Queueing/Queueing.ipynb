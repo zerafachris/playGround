{
 "cells": [
  {
   "cell_type": "markdown",
   "metadata": {},
   "source": [
    "# QUESTION\n",
    "At a post office, customers enter a single line waiting to be served by any one\n",
    "of two clerks.  Every minute there is a 60% chance that a new customer arrives.\n",
    "If there is no one in line and a server is free, the customer does not wait to be\n",
    "served.  When a customer is being served there is a 25% chance every minute that\n",
    "they complete their business and leave.  When the clerk is free he will take the\n",
    "next customer in line, in the order that they arrived.  Every minute, there is a\n",
    "5% chance that a person standing in line will give up and leave.  The post office\n",
    "is always open (24/7/365). Note: For simplicity you can assume customers will\n",
    "always arrive at the beginning of the minute and if they leave they do so at the\n",
    "end of the minute."
   ]
  },
  {
   "cell_type": "code",
   "execution_count": 1,
   "metadata": {},
   "outputs": [],
   "source": [
    "# Import modules\n",
    "import random as rand\n",
    "import matplotlib.pyplot as plt"
   ]
  },
  {
   "cell_type": "code",
   "execution_count": 29,
   "metadata": {},
   "outputs": [],
   "source": [
    "# Hyper Parameters\n",
    "#INT = 10  #small test interval used for QC\n",
    "INT = 1 * 60 * 24 * 365 #Total time to track in Minutes\n",
    "NumClerk = 2    #Number of clerks\n",
    "p_new = 60      #Probability a new person shows up\n",
    "p_ready = 25    #Probability a person being served, completes business and leaves\n",
    "p_leave = 5     #Probability a person in line leaves"
   ]
  },
  {
   "cell_type": "code",
   "execution_count": 30,
   "metadata": {},
   "outputs": [],
   "source": [
    "# =============================================================================\n",
    "# #% INITIALIZATION\n",
    "# =============================================================================\n",
    "slots = [0]*NumClerk    #slots representing number of clerks\n",
    "waitTime = 0            #total wait time of all customers\n",
    "queue = 0               #number of people in queue\n",
    "leave = 0               #number of people that left\n",
    "idle = 0                #number of minutes that clerks are idle\n",
    "cust = 0                #number of customers\n",
    "doneBusy = 0            #number of customers done from business\n",
    "finalQueue = []         #list for final queue\n",
    "finalLeave = []         #list for cust leaving\n",
    "finalDoneBusiness = []  #list for customers done from business\n",
    "\n",
    "# =============================================================================\n",
    "# MAIN LOOP\n",
    "# =============================================================================\n",
    "for tt in range(INT):\n",
    "    #CHECK IF ANYONE IS DONE FROM BUSINESS AND LEAVES FROM THE CLERKS\n",
    "    for jj in range(NumClerk):\n",
    "        if slots[jj] == 1:\n",
    "            if rand.randint(0,100) < p_ready + 1:\n",
    "                slots[jj] = 0\n",
    "                doneBusy += 1\n",
    "            else:\n",
    "                waitTime += 1\n",
    "        #CHECK IF A NEW PERSON WALKS IN POST OFFICE AND IS ADDED TO THE QUEUE\n",
    "        if rand.randint(0,100) < p_new + 1:\n",
    "            cust += 1\n",
    "            queue += 1\n",
    "        #CHECK IF A PERSON RANDOMLY LEAVES THE QUEUE\n",
    "        if queue > 0 and rand.randint(0,100) < p_leave + 1:\n",
    "            queue -= 1\n",
    "            leave += 1\n",
    "        #CHECK IF A PERSON FROM QUEUE CAN BE SERVED\n",
    "        for jj in range(0,NumClerk):\n",
    "            #CHECK IF CLERK IS FREE\n",
    "            if slots[jj] == 0:\n",
    "                #CHECK IF PERSON IS IN QUEUE\n",
    "                if queue > 0:\n",
    "                    slots[jj] = 1\n",
    "                    queue += - 1\n",
    "        #EVERYONE LEFT IN THE QUEUE HAS WAITED ONE MORE INTERVAL TO BE SERVED\n",
    "        waitTime += queue\n",
    "        #COUNT THE NUMBER OF TIMES THE CLERKS WERE IDLE\n",
    "        for jj in range(0,NumClerk):\n",
    "            if slots[jj] == 0:\n",
    "                idle += 1\n",
    "    # Lists for plots\n",
    "    finalQueue.append(queue)   \n",
    "    finalLeave.append(leave)\n",
    "    finalDoneBusiness.append(doneBusy)"
   ]
  },
  {
   "cell_type": "code",
   "execution_count": 31,
   "metadata": {},
   "outputs": [
    {
     "data": {
      "image/png": "[encoded data removed]",
      "text/plain": [
       "<Figure size 432x288 with 1 Axes>"
      ]
     },
     "metadata": {},
     "output_type": "display_data"
    }
   ],
   "source": [
    "# =============================================================================\n",
    "# PLOT ILLUSTRATING THE QUEUE LENGTH\n",
    "# =============================================================================\n",
    "plt.plot(range(INT),finalQueue,label='Queue')\n",
    "plt.plot(range(INT),finalLeave,label='People lost')\n",
    "plt.plot(range(INT),finalDoneBusiness, label='Done from Business')\n",
    "plt.xlabel('Time (minutes)')\n",
    "plt.ylabel('Queue length (people)')\n",
    "plt.legend()\n",
    "plt.show()"
   ]
  },
  {
   "cell_type": "code",
   "execution_count": 32,
   "metadata": {},
   "outputs": [
    {
     "name": "stdout",
     "output_type": "stream",
     "text": [
      "1) Average time spent in post office is 250513.16 minutes.\n",
      "2) 9.78% of the customers leave without being served.\n",
      "3) Clerks are 0.00% of the time idle.\n"
     ]
    }
   ],
   "source": [
    "# =============================================================================\n",
    "# QUESTIONS\n",
    "# =============================================================================\n",
    "# What is the average amount of time a customer spends in the post office (including those not SERVED)?\n",
    "AVG_TIME_CUSTOMER = waitTime / cust\n",
    "print('1) Average time spent in post office is {:0.2f} minutes.'.format(AVG_TIME_CUSTOMER))\n",
    "# What percentage of customers leave without being served?\n",
    "PERCENT_CUSTOMERS_LEAVE = leave / cust * 100\n",
    "print('2) {:0.2f}% of the customers leave without being served.'.format(PERCENT_CUSTOMERS_LEAVE))\n",
    "# What percentage of time are the clerks idle?\n",
    "PERCENT_CLERKS_IDLE = idle / (NumClerk * INT) * 100\n",
    "print('3) Clerks are {:0.2f}% of the time idle.'.format(PERCENT_CLERKS_IDLE))"
   ]
  },
  {
   "cell_type": "code",
   "execution_count": null,
   "metadata": {},
   "outputs": [],
   "source": []
  }
 ],
 "metadata": {
  "kernelspec": {
   "display_name": "Python 3",
   "language": "python",
   "name": "python3"
  },
  "language_info": {
   "codemirror_mode": {
    "name": "ipython",
    "version": 3
   },
   "file_extension": ".py",
   "mimetype": "text/x-python",
   "name": "python",
   "nbconvert_exporter": "python",
   "pygments_lexer": "ipython3",
   "version": "3.6.6"
  }
 },
 "nbformat": 4,
 "nbformat_minor": 2
}
