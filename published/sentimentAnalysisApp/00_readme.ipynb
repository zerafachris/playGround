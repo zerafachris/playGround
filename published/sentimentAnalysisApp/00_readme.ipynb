{
 "cells": [
  {
   "cell_type": "markdown",
   "metadata": {},
   "source": [
    "# Introduction\n",
    "The goal of these notebooks serves to show: \n",
    "1. A very simple sentiment analysis application built using [TF-IDF](https://en.wikipedia.org/wiki/Tf%E2%80%93idf) and sentiment classification using Logistic Regression, \n",
    "1. Sentiment will be language agnostic, and\n",
    "1. Deployment and servicing of an ML model model on [PythonAnywhere](https://www.pythonanywhere.com).\n",
    "1. Use of [Swagger UI](https://swagger.io/tools/swagger-ui/) to encapsulate the API \n",
    "\n",
    "You can test out the application [here](https://mybinder.org/v2/gh/zerafachris/playGround/master?filepath=published%2FsentimentAnalysisApp%2F04_interactive_sentiment_analysis.ipynb) by using [![Binder](https://mybinder.org/badge_logo.svg)](https://mybinder.org/v2/gh/zerafachris/playGround/master?filepath=published%2FsentimentAnalysisApp%2F04_interactive_sentiment_analysis.ipynb)\n"
   ]
  },
  {
   "cell_type": "markdown",
   "metadata": {},
   "source": [
    "# Sentiment Analysis Application\n",
    "The ML model I wanted to build here makes use of Term Frequency – Inverse Document Frequency (TF-IDF) and use this to get the sentiment of reviews left by people reviewing my GitHub page."
   ]
  },
  {
   "cell_type": "markdown",
   "metadata": {},
   "source": [
    "## Data - [01_create_data.ipynb](https://github.com/zerafachris/playGround/blob/master/published/sentimentAnalysisApp/01_create_data.ipynb)\n",
    "I did not have sentiment data, but page reviews could be considered to be similar to *movie* reviews. Thus, I used the [Large Movie Review Dataset](https://ai.stanford.edu/~amaas/data/sentiment/). This is a set of 50,000 movie reviews and respective binary labels for sentiment. Getting and downloading of this data can be done via [01_create_data.ipynb](https://github.com/zerafachris/playGround/blob/master/published/sentimentAnalysisApp/01_create_data.ipynb). Below you can see a data sample:"
   ]
  },
  {
   "cell_type": "code",
   "execution_count": 20,
   "metadata": {
    "ExecuteTime": {
     "end_time": "2020-01-02T18:10:15.913556Z",
     "start_time": "2020-01-02T18:10:15.805123Z"
    }
   },
   "outputs": [
    {
     "name": "stdout",
     "output_type": "stream",
     "text": [
      "\n",
      "    Sentiment: pos\n",
      "    Review:  Years ago when I first read John Irving s The World According to Garp I was astounded that most of the younger adults with whom I had contact didn t like the book when I loved it I began to understand that it was an age and experience thing I experienced somewhat of a d j vu when reading some of the comments on this site that were clearly written by younger viewers Fully enjoying Separate Lies is surely an age and experience thing br br In this film the viewer sees a seemingly happy upper middle class couple he a successful lawyer she the perfect wife of a successful lawyer They have a townhouse in London and a home in the country All s well until there enters the villain in the guise of the son of the richest man in the village This guy appears to be a cad from the word Go He is disdainful of everyone and everything including his own children In the traditional form of nice guys finishing last the lawyer s wife engages in an affair with the bounder You see the lawyer really is a nice guy but with the marriage killing trait of an organized perfectionist Even though he truly loves her he is boring his wife to death The bad boy is far more exciting br br All of this is entangled with the hit and run death of a man in the village in which all the facts point to the cad being the driver of the vehicle br br It s easy to determine that this movie doesn t build to a happy ending however it does lead to a very satisfying ending in that the man and his wife learn and grow from their experiences and probably will be able to conduct their personal lives in a more successful manner br br Three excellent actors play the main characters in this film and it is there performances that make the whole thing a pleasure to watch Tom Wilkinson is perfect as the husband His portrayal shows us a kind man who has so much control over his emotions that he has lost touch with the world Emily Watson shows us a woman who has become so trapped in the role of perfect wife that she has almost lost her knowledge of passion That passion is reborn by the character deftly played by Rupert Everett br br If you have reached that point in life in which you understand that everyone has feet of clay and that everyone even with the gifts of intelligence and opportunities makes many many wrong decisions then you will probably enjoy watching these excellent actors creating the lives of three such people This is a beautifully acted and directed adult film about realistic adults \n",
      "\n",
      "\n",
      "    Sentiment: neg\n",
      "    Review:  Sometimes changes to novels when they re made into films are not only necessary but a good thing However in the case of Northanger Abbey it s a very very bad thing Not only is the story itself ripped to shreds but the satire is almost completely absent from the film and it s mixture of romance and intrigue doesn t even touch upon the biting commentary that Austen put into her work It fails to be amusing or satirical at all and instead turns the character s fascination with her fantasy world into mostly a drama br br This affects the romance as well It s meandering and aimless Chemistry and interest are never established The reasons Tilney is attracted to Catherine are completely absent from the film leaving the audience to wonder what it is he sees in her at all br br Hopefully some day soon we ll get a more faithful version if Austen s satire \n",
      "\n"
     ]
    }
   ],
   "source": [
    "import pandas as pd\n",
    "df = pd.read_csv('./data/test.csv').head(2)\n",
    "for sent, rev in zip(df['sentiment'], df['review']):\n",
    "    print('''\n",
    "    Sentiment: {}\n",
    "    Review: {}\\n'''.format(sent, rev))    "
   ]
  },
  {
   "cell_type": "markdown",
   "metadata": {},
   "source": [
    "## ML modelling - [02_TF_IDF.ipynb](https://github.com/zerafachris/playGround/blob/master/published/sentimentAnalysisApp/02_TF_IDF.ipynb)\n",
    "### Pre-Processing\n",
    "Initial  data is cleaned via pre-processing in the form of:\n",
    "- Removing HTML tags,\n",
    "- Removing non-letters,\n",
    "- To lower case,\n",
    "- Tokenization to each word,\n",
    "- Stemming\n",
    "    - Tokenization and Stemming was simplified by using Natural Language Toolkit ([NLTK](https://www.nltk.org/))\n",
    "\n",
    "### TF-IDF application\n",
    "\n",
    "### ML-modelling\n",
    "I tried out multiple classification techniques. Results for this are given by:\n",
    "\t\n",
    "|   Modelling  | Score (**roc_auc**) |\n",
    "|-----|:------:|\n",
    "| Support Vector Machine - Linear|      0.969465 |\n",
    "| Naive Bayes Classifier - Bernoulli |      0.941231 |\n",
    "| Multi-Layer Perceptron (MLP) |      0.968113 |\n",
    "|  Logistic Regrssion (LR)  |   0.969760  |\n",
    "\n",
    "LR was the quickest to model and produced the best **roc_auc** score. I decided to proceed with this. Alternatively, I could have considered having an ensemble of models. However, I feel this goes beyond the scope of this notebook.\n"
   ]
  },
  {
   "cell_type": "markdown",
   "metadata": {},
   "source": [
    "## Productionization of App - [03_TF_IDF_prod_lr.ipynb](https://github.com/zerafachris/playGround/blob/master/published/sentimentAnalysisApp/03_TF_IDF_prod_lr.ipynb)\n",
    "The next notebook prepares pipelines for productionization."
   ]
  },
  {
   "cell_type": "markdown",
   "metadata": {},
   "source": [
    "# App deployment\n",
    "## PythonAnywhere\n"
   ]
  },
  {
   "cell_type": "code",
   "execution_count": null,
   "metadata": {},
   "outputs": [],
   "source": []
  }
 ],
 "metadata": {
  "hide_input": false,
  "kernelspec": {
   "display_name": "Python 3",
   "language": "python",
   "name": "python3"
  },
  "language_info": {
   "codemirror_mode": {
    "name": "ipython",
    "version": 3
   },
   "file_extension": ".py",
   "mimetype": "text/x-python",
   "name": "python",
   "nbconvert_exporter": "python",
   "pygments_lexer": "ipython3",
   "version": "3.7.5"
  },
  "toc": {
   "base_numbering": 1,
   "nav_menu": {},
   "number_sections": true,
   "sideBar": true,
   "skip_h1_title": false,
   "title_cell": "Table of Contents",
   "title_sidebar": "Contents",
   "toc_cell": false,
   "toc_position": {},
   "toc_section_display": true,
   "toc_window_display": false
  }
 },
 "nbformat": 4,
 "nbformat_minor": 2
}
